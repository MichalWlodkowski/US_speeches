{
  "nbformat": 4,
  "nbformat_minor": 0,
  "metadata": {
    "colab": {
      "name": "nlp.ipynb",
      "provenance": [],
      "authorship_tag": "ABX9TyOMFETJNJ5R6YhY1Lh4eOKp",
      "include_colab_link": true
    },
    "kernelspec": {
      "name": "python3",
      "display_name": "Python 3"
    }
  },
  "cells": [
    {
      "cell_type": "markdown",
      "metadata": {
        "id": "view-in-github",
        "colab_type": "text"
      },
      "source": [
        "<a href=\"https://colab.research.google.com/github/MichalWlodkowski/US_speeches/blob/master/nlp.ipynb\" target=\"_parent\"><img src=\"https://colab.research.google.com/assets/colab-badge.svg\" alt=\"Open In Colab\"/></a>"
      ]
    },
    {
      "cell_type": "code",
      "metadata": {
        "id": "akICdR4EZI_p",
        "colab_type": "code",
        "colab": {}
      },
      "source": [
        "from scrapy import Selector\n",
        "import requests\n",
        "import numpy as np\n",
        "import pandas as pd\n",
        "import re\n",
        "\n",
        "from nltk.tokenize import sent_tokenize\n",
        "from nltk.tokenize import word_tokenize\n",
        "from nltk.tokenize import regexp_tokenize"
      ],
      "execution_count": 0,
      "outputs": []
    },
    {
      "cell_type": "code",
      "metadata": {
        "id": "oFLlS7RsZm0F",
        "colab_type": "code",
        "colab": {}
      },
      "source": [
        "us_all = 'https://en.wikisource.org/wiki/Portal:Inaugural_Speeches_by_United_States_Presidents'"
      ],
      "execution_count": 0,
      "outputs": []
    },
    {
      "cell_type": "code",
      "metadata": {
        "id": "Vh9FHIrlaF7a",
        "colab_type": "code",
        "colab": {}
      },
      "source": [
        "## Getting links to all presidential Inaugural Addresses in US\n",
        "\n",
        "html = requests.get(us_all).content\n",
        "sel = Selector( text = html )\n",
        "xpath3 = '//@href'\n",
        "d = pd.DataFrame(sel.xpath(xpath3).extract())\n",
        "speech = d[d[0].str.contains('Inaugural_Address')].reset_index(drop = True)\n",
        "speech.columns = ['links']"
      ],
      "execution_count": 0,
      "outputs": []
    },
    {
      "cell_type": "code",
      "metadata": {
        "id": "uhBr_dlcaHc_",
        "colab_type": "code",
        "colab": {
          "base_uri": "https://localhost:8080/",
          "height": 206
        },
        "outputId": "865ac7f6-330a-4fdc-ae6a-da29bbcffbe7"
      },
      "source": [
        "# Function to get president name from links + receiving full link for speeches\n",
        "def frag(x):\n",
        "    wh = x[6:x.find('%')].replace('_',' ')\n",
        "    return wh\n",
        "speech['president'] = speech['links'].apply(frag)\n",
        "speech['full_links'] = speech['links'].apply(lambda x: 'https://en.wikisource.org' + x)\n",
        "speech.head()"
      ],
      "execution_count": 6,
      "outputs": [
        {
          "output_type": "execute_result",
          "data": {
            "text/html": [
              "<div>\n",
              "<style scoped>\n",
              "    .dataframe tbody tr th:only-of-type {\n",
              "        vertical-align: middle;\n",
              "    }\n",
              "\n",
              "    .dataframe tbody tr th {\n",
              "        vertical-align: top;\n",
              "    }\n",
              "\n",
              "    .dataframe thead th {\n",
              "        text-align: right;\n",
              "    }\n",
              "</style>\n",
              "<table border=\"1\" class=\"dataframe\">\n",
              "  <thead>\n",
              "    <tr style=\"text-align: right;\">\n",
              "      <th></th>\n",
              "      <th>links</th>\n",
              "      <th>president</th>\n",
              "    </tr>\n",
              "  </thead>\n",
              "  <tbody>\n",
              "    <tr>\n",
              "      <th>0</th>\n",
              "      <td>/wiki/George_Washington%27s_First_Inaugural_Ad...</td>\n",
              "      <td>George Washington</td>\n",
              "    </tr>\n",
              "    <tr>\n",
              "      <th>1</th>\n",
              "      <td>/wiki/George_Washington%27s_Second_Inaugural_A...</td>\n",
              "      <td>George Washington</td>\n",
              "    </tr>\n",
              "    <tr>\n",
              "      <th>2</th>\n",
              "      <td>/wiki/John_Adams%27_Inaugural_Address</td>\n",
              "      <td>John Adams</td>\n",
              "    </tr>\n",
              "    <tr>\n",
              "      <th>3</th>\n",
              "      <td>/wiki/Thomas_Jefferson%27s_First_Inaugural_Add...</td>\n",
              "      <td>Thomas Jefferson</td>\n",
              "    </tr>\n",
              "    <tr>\n",
              "      <th>4</th>\n",
              "      <td>/wiki/Thomas_Jefferson%27s_Second_Inaugural_Ad...</td>\n",
              "      <td>Thomas Jefferson</td>\n",
              "    </tr>\n",
              "  </tbody>\n",
              "</table>\n",
              "</div>"
            ],
            "text/plain": [
              "                                               links          president\n",
              "0  /wiki/George_Washington%27s_First_Inaugural_Ad...  George Washington\n",
              "1  /wiki/George_Washington%27s_Second_Inaugural_A...  George Washington\n",
              "2              /wiki/John_Adams%27_Inaugural_Address         John Adams\n",
              "3  /wiki/Thomas_Jefferson%27s_First_Inaugural_Add...   Thomas Jefferson\n",
              "4  /wiki/Thomas_Jefferson%27s_Second_Inaugural_Ad...   Thomas Jefferson"
            ]
          },
          "metadata": {
            "tags": []
          },
          "execution_count": 6
        }
      ]
    },
    {
      "cell_type": "code",
      "metadata": {
        "id": "009rKsJRaLaz",
        "colab_type": "code",
        "colab": {}
      },
      "source": [
        "plain_text = []\n",
        "#for each in range(len(speech)-3,len(speech)):\n",
        "for each in range(len(speech)):\n",
        "    \n",
        "    html = requests.get(speech.full_links.loc[each]).content\n",
        "    sel = Selector (text = html)\n",
        "    xpath3 = '//*[@class=\"mw-parser-output\"]//p//text()'\n",
        "    # Extract text from website + join in 1string + remove unwanted text and new lines\n",
        "    text = ''.join(sel.xpath(xpath3).extract()).replace('\\nThis work is in the public domain in the United States because it is a work of the United States federal government (see 17\\xa0U.S.C.\\xa0105).\\n','')\\\n",
        ".replace('\\n',' ')\n",
        "    plain_text.append(text)    "
      ],
      "execution_count": 0,
      "outputs": []
    },
    {
      "cell_type": "code",
      "metadata": {
        "id": "OuWB_lkJaNDU",
        "colab_type": "code",
        "colab": {}
      },
      "source": [
        "def hm_words(x):\n",
        "    words = len(x.split())\n",
        "    return words\n",
        "\n",
        "def hm_ch_words(x):\n",
        "    words_ch = round(np.mean([len(x) for x in x.split()]),2)\n",
        "    return words_ch\n",
        "\n",
        "def n_sentences(x):\n",
        "    sent = len(x.split('.'))\n",
        "    return sent\n",
        "\n",
        "def n_parag(x):\n",
        "    par =  len(x.split('\\n'))\n",
        "    return par"
      ],
      "execution_count": 0,
      "outputs": []
    },
    {
      "cell_type": "code",
      "metadata": {
        "id": "VVxHFiOlaS4W",
        "colab_type": "code",
        "colab": {
          "base_uri": "https://localhost:8080/",
          "height": 112
        },
        "outputId": "3c37fa37-afd5-4a3e-af6b-47400be0b044"
      },
      "source": [
        "speeches = pd.DataFrame(plain_text, columns = ['speeches'])\n",
        "speeches['line_text'] = pd.DataFrame(text_lines)\n",
        "speeches['characters'] = speeches.speeches.apply(len)\n",
        "speeches['words'] = speeches.speeches.apply(hm_words)\n",
        "speeches['ch_in_words'] = speeches.speeches.apply(hm_ch_words)\n",
        "speeches['sentences'] = speeches.speeches.apply(n_sentences)\n",
        "speeches['paragraphs'] = speeches.line_text.apply(n_parag)\n",
        "\n",
        "speeches['ch_in_sent'] = round(speeches['characters'] / speeches['sentences'],1)\n",
        "speeches.tail(2)"
      ],
      "execution_count": 27,
      "outputs": [
        {
          "output_type": "execute_result",
          "data": {
            "text/html": [
              "<div>\n",
              "<style scoped>\n",
              "    .dataframe tbody tr th:only-of-type {\n",
              "        vertical-align: middle;\n",
              "    }\n",
              "\n",
              "    .dataframe tbody tr th {\n",
              "        vertical-align: top;\n",
              "    }\n",
              "\n",
              "    .dataframe thead th {\n",
              "        text-align: right;\n",
              "    }\n",
              "</style>\n",
              "<table border=\"1\" class=\"dataframe\">\n",
              "  <thead>\n",
              "    <tr style=\"text-align: right;\">\n",
              "      <th></th>\n",
              "      <th>speeches</th>\n",
              "      <th>line_text</th>\n",
              "      <th>characters</th>\n",
              "      <th>words</th>\n",
              "      <th>ch_in_words</th>\n",
              "      <th>sentences</th>\n",
              "      <th>paragraphs</th>\n",
              "      <th>ch_in_sent</th>\n",
              "    </tr>\n",
              "  </thead>\n",
              "  <tbody>\n",
              "    <tr>\n",
              "      <th>56</th>\n",
              "      <td>Vice President Biden, Mr. Chief Justice, Memb...</td>\n",
              "      <td>\\nVice President Biden, Mr. Chief Justice, Mem...</td>\n",
              "      <td>11954</td>\n",
              "      <td>2114</td>\n",
              "      <td>4.65</td>\n",
              "      <td>86</td>\n",
              "      <td>23</td>\n",
              "      <td>139.0</td>\n",
              "    </tr>\n",
              "    <tr>\n",
              "      <th>57</th>\n",
              "      <td>Chief Justice Roberts, President Carter, Presi...</td>\n",
              "      <td>Chief Justice Roberts, President Carter, Presi...</td>\n",
              "      <td>8413</td>\n",
              "      <td>1456</td>\n",
              "      <td>4.78</td>\n",
              "      <td>96</td>\n",
              "      <td>16</td>\n",
              "      <td>87.6</td>\n",
              "    </tr>\n",
              "  </tbody>\n",
              "</table>\n",
              "</div>"
            ],
            "text/plain": [
              "                                             speeches  ... ch_in_sent\n",
              "56   Vice President Biden, Mr. Chief Justice, Memb...  ...      139.0\n",
              "57  Chief Justice Roberts, President Carter, Presi...  ...       87.6\n",
              "\n",
              "[2 rows x 8 columns]"
            ]
          },
          "metadata": {
            "tags": []
          },
          "execution_count": 27
        }
      ]
    },
    {
      "cell_type": "code",
      "metadata": {
        "id": "zh5nOcSzaUYw",
        "colab_type": "code",
        "colab": {
          "base_uri": "https://localhost:8080/",
          "height": 206
        },
        "outputId": "05adcfe8-6e49-47d3-e4e7-8f4cc6e8a2b1"
      },
      "source": [
        "db = pd.concat([speech['president'],speeches.iloc[:,2:]], axis = 1)\n",
        "db.tail()"
      ],
      "execution_count": 28,
      "outputs": [
        {
          "output_type": "execute_result",
          "data": {
            "text/html": [
              "<div>\n",
              "<style scoped>\n",
              "    .dataframe tbody tr th:only-of-type {\n",
              "        vertical-align: middle;\n",
              "    }\n",
              "\n",
              "    .dataframe tbody tr th {\n",
              "        vertical-align: top;\n",
              "    }\n",
              "\n",
              "    .dataframe thead th {\n",
              "        text-align: right;\n",
              "    }\n",
              "</style>\n",
              "<table border=\"1\" class=\"dataframe\">\n",
              "  <thead>\n",
              "    <tr style=\"text-align: right;\">\n",
              "      <th></th>\n",
              "      <th>president</th>\n",
              "      <th>characters</th>\n",
              "      <th>words</th>\n",
              "      <th>ch_in_words</th>\n",
              "      <th>sentences</th>\n",
              "      <th>paragraphs</th>\n",
              "      <th>ch_in_sent</th>\n",
              "    </tr>\n",
              "  </thead>\n",
              "  <tbody>\n",
              "    <tr>\n",
              "      <th>53</th>\n",
              "      <td>George W. Bush</td>\n",
              "      <td>9005</td>\n",
              "      <td>1586</td>\n",
              "      <td>4.68</td>\n",
              "      <td>84</td>\n",
              "      <td>20</td>\n",
              "      <td>107.2</td>\n",
              "    </tr>\n",
              "    <tr>\n",
              "      <th>54</th>\n",
              "      <td>George W. Bush</td>\n",
              "      <td>11918</td>\n",
              "      <td>2083</td>\n",
              "      <td>4.72</td>\n",
              "      <td>104</td>\n",
              "      <td>181</td>\n",
              "      <td>114.6</td>\n",
              "    </tr>\n",
              "    <tr>\n",
              "      <th>55</th>\n",
              "      <td>Barack Obama</td>\n",
              "      <td>13140</td>\n",
              "      <td>2328</td>\n",
              "      <td>4.64</td>\n",
              "      <td>109</td>\n",
              "      <td>35</td>\n",
              "      <td>120.6</td>\n",
              "    </tr>\n",
              "    <tr>\n",
              "      <th>56</th>\n",
              "      <td>Barack Obama</td>\n",
              "      <td>11954</td>\n",
              "      <td>2114</td>\n",
              "      <td>4.65</td>\n",
              "      <td>86</td>\n",
              "      <td>23</td>\n",
              "      <td>139.0</td>\n",
              "    </tr>\n",
              "    <tr>\n",
              "      <th>57</th>\n",
              "      <td>Donald Trump</td>\n",
              "      <td>8413</td>\n",
              "      <td>1456</td>\n",
              "      <td>4.78</td>\n",
              "      <td>96</td>\n",
              "      <td>16</td>\n",
              "      <td>87.6</td>\n",
              "    </tr>\n",
              "  </tbody>\n",
              "</table>\n",
              "</div>"
            ],
            "text/plain": [
              "         president  characters  words  ...  sentences  paragraphs  ch_in_sent\n",
              "53  George W. Bush        9005   1586  ...         84          20       107.2\n",
              "54  George W. Bush       11918   2083  ...        104         181       114.6\n",
              "55    Barack Obama       13140   2328  ...        109          35       120.6\n",
              "56    Barack Obama       11954   2114  ...         86          23       139.0\n",
              "57    Donald Trump        8413   1456  ...         96          16        87.6\n",
              "\n",
              "[5 rows x 7 columns]"
            ]
          },
          "metadata": {
            "tags": []
          },
          "execution_count": 28
        }
      ]
    },
    {
      "cell_type": "code",
      "metadata": {
        "id": "YFKCS-Tbckvv",
        "colab_type": "code",
        "colab": {
          "base_uri": "https://localhost:8080/",
          "height": 238
        },
        "outputId": "9e0fd515-6ca5-4da3-eb5e-d90db8e93bb9"
      },
      "source": [
        "round(db.describe().T,1)"
      ],
      "execution_count": 29,
      "outputs": [
        {
          "output_type": "execute_result",
          "data": {
            "text/html": [
              "<div>\n",
              "<style scoped>\n",
              "    .dataframe tbody tr th:only-of-type {\n",
              "        vertical-align: middle;\n",
              "    }\n",
              "\n",
              "    .dataframe tbody tr th {\n",
              "        vertical-align: top;\n",
              "    }\n",
              "\n",
              "    .dataframe thead th {\n",
              "        text-align: right;\n",
              "    }\n",
              "</style>\n",
              "<table border=\"1\" class=\"dataframe\">\n",
              "  <thead>\n",
              "    <tr style=\"text-align: right;\">\n",
              "      <th></th>\n",
              "      <th>count</th>\n",
              "      <th>mean</th>\n",
              "      <th>std</th>\n",
              "      <th>min</th>\n",
              "      <th>25%</th>\n",
              "      <th>50%</th>\n",
              "      <th>75%</th>\n",
              "      <th>max</th>\n",
              "    </tr>\n",
              "  </thead>\n",
              "  <tbody>\n",
              "    <tr>\n",
              "      <th>characters</th>\n",
              "      <td>58.0</td>\n",
              "      <td>13681.4</td>\n",
              "      <td>8321.8</td>\n",
              "      <td>786.0</td>\n",
              "      <td>8114.2</td>\n",
              "      <td>11936.0</td>\n",
              "      <td>17489.0</td>\n",
              "      <td>49652.0</td>\n",
              "    </tr>\n",
              "    <tr>\n",
              "      <th>words</th>\n",
              "      <td>58.0</td>\n",
              "      <td>2333.4</td>\n",
              "      <td>1387.1</td>\n",
              "      <td>135.0</td>\n",
              "      <td>1444.0</td>\n",
              "      <td>2093.5</td>\n",
              "      <td>2886.8</td>\n",
              "      <td>8424.0</td>\n",
              "    </tr>\n",
              "    <tr>\n",
              "      <th>ch_in_words</th>\n",
              "      <td>58.0</td>\n",
              "      <td>4.8</td>\n",
              "      <td>0.2</td>\n",
              "      <td>4.4</td>\n",
              "      <td>4.7</td>\n",
              "      <td>4.9</td>\n",
              "      <td>5.0</td>\n",
              "      <td>5.1</td>\n",
              "    </tr>\n",
              "    <tr>\n",
              "      <th>sentences</th>\n",
              "      <td>58.0</td>\n",
              "      <td>87.0</td>\n",
              "      <td>47.0</td>\n",
              "      <td>5.0</td>\n",
              "      <td>43.5</td>\n",
              "      <td>89.0</td>\n",
              "      <td>115.8</td>\n",
              "      <td>213.0</td>\n",
              "    </tr>\n",
              "    <tr>\n",
              "      <th>paragraphs</th>\n",
              "      <td>58.0</td>\n",
              "      <td>38.1</td>\n",
              "      <td>40.1</td>\n",
              "      <td>3.0</td>\n",
              "      <td>15.2</td>\n",
              "      <td>27.0</td>\n",
              "      <td>40.8</td>\n",
              "      <td>210.0</td>\n",
              "    </tr>\n",
              "    <tr>\n",
              "      <th>ch_in_sent</th>\n",
              "      <td>58.0</td>\n",
              "      <td>171.7</td>\n",
              "      <td>70.4</td>\n",
              "      <td>87.2</td>\n",
              "      <td>117.8</td>\n",
              "      <td>152.1</td>\n",
              "      <td>206.8</td>\n",
              "      <td>407.7</td>\n",
              "    </tr>\n",
              "  </tbody>\n",
              "</table>\n",
              "</div>"
            ],
            "text/plain": [
              "             count     mean     std    min     25%      50%      75%      max\n",
              "characters    58.0  13681.4  8321.8  786.0  8114.2  11936.0  17489.0  49652.0\n",
              "words         58.0   2333.4  1387.1  135.0  1444.0   2093.5   2886.8   8424.0\n",
              "ch_in_words   58.0      4.8     0.2    4.4     4.7      4.9      5.0      5.1\n",
              "sentences     58.0     87.0    47.0    5.0    43.5     89.0    115.8    213.0\n",
              "paragraphs    58.0     38.1    40.1    3.0    15.2     27.0     40.8    210.0\n",
              "ch_in_sent    58.0    171.7    70.4   87.2   117.8    152.1    206.8    407.7"
            ]
          },
          "metadata": {
            "tags": []
          },
          "execution_count": 29
        }
      ]
    },
    {
      "cell_type": "code",
      "metadata": {
        "id": "C2G75l1JclLB",
        "colab_type": "code",
        "colab": {
          "base_uri": "https://localhost:8080/",
          "height": 238
        },
        "outputId": "b111ceec-2406-414c-d2ec-f837a00e131b"
      },
      "source": [
        "db.groupby(['president']).mean().sort_values('characters', ascending = False).head()"
      ],
      "execution_count": 30,
      "outputs": [
        {
          "output_type": "execute_result",
          "data": {
            "text/html": [
              "<div>\n",
              "<style scoped>\n",
              "    .dataframe tbody tr th:only-of-type {\n",
              "        vertical-align: middle;\n",
              "    }\n",
              "\n",
              "    .dataframe tbody tr th {\n",
              "        vertical-align: top;\n",
              "    }\n",
              "\n",
              "    .dataframe thead th {\n",
              "        text-align: right;\n",
              "    }\n",
              "</style>\n",
              "<table border=\"1\" class=\"dataframe\">\n",
              "  <thead>\n",
              "    <tr style=\"text-align: right;\">\n",
              "      <th></th>\n",
              "      <th>characters</th>\n",
              "      <th>words</th>\n",
              "      <th>ch_in_words</th>\n",
              "      <th>sentences</th>\n",
              "      <th>paragraphs</th>\n",
              "      <th>ch_in_sent</th>\n",
              "    </tr>\n",
              "    <tr>\n",
              "      <th>president</th>\n",
              "      <th></th>\n",
              "      <th></th>\n",
              "      <th></th>\n",
              "      <th></th>\n",
              "      <th></th>\n",
              "      <th></th>\n",
              "    </tr>\n",
              "  </thead>\n",
              "  <tbody>\n",
              "    <tr>\n",
              "      <th>William Henry Harrison</th>\n",
              "      <td>49652.0</td>\n",
              "      <td>8424.0</td>\n",
              "      <td>4.89</td>\n",
              "      <td>213.0</td>\n",
              "      <td>25.0</td>\n",
              "      <td>233.1</td>\n",
              "    </tr>\n",
              "    <tr>\n",
              "      <th>William Howard Taft</th>\n",
              "      <td>32119.0</td>\n",
              "      <td>5428.0</td>\n",
              "      <td>4.92</td>\n",
              "      <td>161.0</td>\n",
              "      <td>44.0</td>\n",
              "      <td>199.5</td>\n",
              "    </tr>\n",
              "    <tr>\n",
              "      <th>James K. Polk</th>\n",
              "      <td>28695.0</td>\n",
              "      <td>4793.0</td>\n",
              "      <td>4.98</td>\n",
              "      <td>147.0</td>\n",
              "      <td>31.0</td>\n",
              "      <td>195.2</td>\n",
              "    </tr>\n",
              "    <tr>\n",
              "      <th>Benjamin Harrison</th>\n",
              "      <td>26195.0</td>\n",
              "      <td>4392.0</td>\n",
              "      <td>4.96</td>\n",
              "      <td>153.0</td>\n",
              "      <td>36.0</td>\n",
              "      <td>171.2</td>\n",
              "    </tr>\n",
              "    <tr>\n",
              "      <th>Calvin Coolidge</th>\n",
              "      <td>23946.0</td>\n",
              "      <td>4056.0</td>\n",
              "      <td>4.90</td>\n",
              "      <td>197.0</td>\n",
              "      <td>46.0</td>\n",
              "      <td>121.6</td>\n",
              "    </tr>\n",
              "  </tbody>\n",
              "</table>\n",
              "</div>"
            ],
            "text/plain": [
              "                        characters   words  ...  paragraphs  ch_in_sent\n",
              "president                                   ...                        \n",
              "William Henry Harrison     49652.0  8424.0  ...        25.0       233.1\n",
              "William Howard Taft        32119.0  5428.0  ...        44.0       199.5\n",
              "James K. Polk              28695.0  4793.0  ...        31.0       195.2\n",
              "Benjamin Harrison          26195.0  4392.0  ...        36.0       171.2\n",
              "Calvin Coolidge            23946.0  4056.0  ...        46.0       121.6\n",
              "\n",
              "[5 rows x 6 columns]"
            ]
          },
          "metadata": {
            "tags": []
          },
          "execution_count": 30
        }
      ]
    },
    {
      "cell_type": "code",
      "metadata": {
        "id": "UyEf4yu0gBgY",
        "colab_type": "code",
        "colab": {}
      },
      "source": [
        ""
      ],
      "execution_count": 0,
      "outputs": []
    }
  ]
}