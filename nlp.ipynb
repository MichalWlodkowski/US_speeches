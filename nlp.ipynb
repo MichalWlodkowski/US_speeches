{
  "nbformat": 4,
  "nbformat_minor": 0,
  "metadata": {
    "colab": {
      "name": "nlp.ipynb",
      "provenance": [],
      "authorship_tag": "ABX9TyPG33wJJcN3/nD6gty9CksC",
      "include_colab_link": true
    },
    "kernelspec": {
      "name": "python3",
      "display_name": "Python 3"
    }
  },
  "cells": [
    {
      "cell_type": "markdown",
      "metadata": {
        "id": "view-in-github",
        "colab_type": "text"
      },
      "source": [
        "<a href=\"https://colab.research.google.com/github/MichalWlodkowski/US_speeches/blob/master/nlp.ipynb\" target=\"_parent\"><img src=\"https://colab.research.google.com/assets/colab-badge.svg\" alt=\"Open In Colab\"/></a>"
      ]
    },
    {
      "cell_type": "code",
      "metadata": {
        "id": "akICdR4EZI_p",
        "colab_type": "code",
        "colab": {}
      },
      "source": [
        "from scrapy import Selector\n",
        "import requests\n",
        "import numpy as np\n",
        "import pandas as pd\n",
        "import re\n",
        "\n",
        "from nltk.tokenize import sent_tokenize\n",
        "from nltk.tokenize import word_tokenize\n",
        "from nltk.tokenize import regexp_tokenize"
      ],
      "execution_count": 0,
      "outputs": []
    },
    {
      "cell_type": "code",
      "metadata": {
        "id": "oFLlS7RsZm0F",
        "colab_type": "code",
        "colab": {}
      },
      "source": [
        "us_all = 'https://en.wikisource.org/wiki/Portal:Inaugural_Speeches_by_United_States_Presidents'"
      ],
      "execution_count": 0,
      "outputs": []
    },
    {
      "cell_type": "code",
      "metadata": {
        "id": "Vh9FHIrlaF7a",
        "colab_type": "code",
        "colab": {}
      },
      "source": [
        "html = requests.get(us_all).content\n",
        "sel = Selector( text = html )\n",
        "xpath3 = '//@href'\n",
        "d = pd.DataFrame(sel.xpath(xpath3).extract())\n",
        "speech = d[d[0].str.contains('Inaugural_Address')].reset_index(drop = True)\n",
        "speech.columns = ['links']"
      ],
      "execution_count": 0,
      "outputs": []
    },
    {
      "cell_type": "code",
      "metadata": {
        "id": "uhBr_dlcaHc_",
        "colab_type": "code",
        "colab": {
          "base_uri": "https://localhost:8080/",
          "height": 206
        },
        "outputId": "865ac7f6-330a-4fdc-ae6a-da29bbcffbe7"
      },
      "source": [
        "def frag(x):\n",
        "    wh = x[6:x.find('%')].replace('_',' ')\n",
        "    return wh\n",
        "speech['president'] = speech['links'].apply(frag)\n",
        "speech.head()\n",
        "#speech['links'].apply("
      ],
      "execution_count": 6,
      "outputs": [
        {
          "output_type": "execute_result",
          "data": {
            "text/html": [
              "<div>\n",
              "<style scoped>\n",
              "    .dataframe tbody tr th:only-of-type {\n",
              "        vertical-align: middle;\n",
              "    }\n",
              "\n",
              "    .dataframe tbody tr th {\n",
              "        vertical-align: top;\n",
              "    }\n",
              "\n",
              "    .dataframe thead th {\n",
              "        text-align: right;\n",
              "    }\n",
              "</style>\n",
              "<table border=\"1\" class=\"dataframe\">\n",
              "  <thead>\n",
              "    <tr style=\"text-align: right;\">\n",
              "      <th></th>\n",
              "      <th>links</th>\n",
              "      <th>president</th>\n",
              "    </tr>\n",
              "  </thead>\n",
              "  <tbody>\n",
              "    <tr>\n",
              "      <th>0</th>\n",
              "      <td>/wiki/George_Washington%27s_First_Inaugural_Ad...</td>\n",
              "      <td>George Washington</td>\n",
              "    </tr>\n",
              "    <tr>\n",
              "      <th>1</th>\n",
              "      <td>/wiki/George_Washington%27s_Second_Inaugural_A...</td>\n",
              "      <td>George Washington</td>\n",
              "    </tr>\n",
              "    <tr>\n",
              "      <th>2</th>\n",
              "      <td>/wiki/John_Adams%27_Inaugural_Address</td>\n",
              "      <td>John Adams</td>\n",
              "    </tr>\n",
              "    <tr>\n",
              "      <th>3</th>\n",
              "      <td>/wiki/Thomas_Jefferson%27s_First_Inaugural_Add...</td>\n",
              "      <td>Thomas Jefferson</td>\n",
              "    </tr>\n",
              "    <tr>\n",
              "      <th>4</th>\n",
              "      <td>/wiki/Thomas_Jefferson%27s_Second_Inaugural_Ad...</td>\n",
              "      <td>Thomas Jefferson</td>\n",
              "    </tr>\n",
              "  </tbody>\n",
              "</table>\n",
              "</div>"
            ],
            "text/plain": [
              "                                               links          president\n",
              "0  /wiki/George_Washington%27s_First_Inaugural_Ad...  George Washington\n",
              "1  /wiki/George_Washington%27s_Second_Inaugural_A...  George Washington\n",
              "2              /wiki/John_Adams%27_Inaugural_Address         John Adams\n",
              "3  /wiki/Thomas_Jefferson%27s_First_Inaugural_Add...   Thomas Jefferson\n",
              "4  /wiki/Thomas_Jefferson%27s_Second_Inaugural_Ad...   Thomas Jefferson"
            ]
          },
          "metadata": {
            "tags": []
          },
          "execution_count": 6
        }
      ]
    },
    {
      "cell_type": "code",
      "metadata": {
        "id": "FqUwytr2aJYB",
        "colab_type": "code",
        "colab": {
          "base_uri": "https://localhost:8080/",
          "height": 81
        },
        "outputId": "ac7ea6bc-6291-4522-f711-b60ae579b2bb"
      },
      "source": [
        "speech['full_links'] = speech['links'].apply(lambda x: 'https://en.wikisource.org' + x)\n",
        "speech.head(1)"
      ],
      "execution_count": 7,
      "outputs": [
        {
          "output_type": "execute_result",
          "data": {
            "text/html": [
              "<div>\n",
              "<style scoped>\n",
              "    .dataframe tbody tr th:only-of-type {\n",
              "        vertical-align: middle;\n",
              "    }\n",
              "\n",
              "    .dataframe tbody tr th {\n",
              "        vertical-align: top;\n",
              "    }\n",
              "\n",
              "    .dataframe thead th {\n",
              "        text-align: right;\n",
              "    }\n",
              "</style>\n",
              "<table border=\"1\" class=\"dataframe\">\n",
              "  <thead>\n",
              "    <tr style=\"text-align: right;\">\n",
              "      <th></th>\n",
              "      <th>links</th>\n",
              "      <th>president</th>\n",
              "      <th>full_links</th>\n",
              "    </tr>\n",
              "  </thead>\n",
              "  <tbody>\n",
              "    <tr>\n",
              "      <th>0</th>\n",
              "      <td>/wiki/George_Washington%27s_First_Inaugural_Ad...</td>\n",
              "      <td>George Washington</td>\n",
              "      <td>https://en.wikisource.org/wiki/George_Washingt...</td>\n",
              "    </tr>\n",
              "  </tbody>\n",
              "</table>\n",
              "</div>"
            ],
            "text/plain": [
              "                                               links  ...                                         full_links\n",
              "0  /wiki/George_Washington%27s_First_Inaugural_Ad...  ...  https://en.wikisource.org/wiki/George_Washingt...\n",
              "\n",
              "[1 rows x 3 columns]"
            ]
          },
          "metadata": {
            "tags": []
          },
          "execution_count": 7
        }
      ]
    },
    {
      "cell_type": "code",
      "metadata": {
        "id": "009rKsJRaLaz",
        "colab_type": "code",
        "colab": {}
      },
      "source": [
        "plain_text = []\n",
        "text_lines = []\n",
        "\n",
        "#for each in range(len(speech)-3,len(speech)):\n",
        "for each in range(len(speech)):\n",
        "    \n",
        "    html = requests.get(speech.full_links.loc[each]).content\n",
        "    sel = Selector (text = html)\n",
        "    xpath3 = '//*[@class=\"mw-parser-output\"]//p//text()'\n",
        "    d = sel.xpath(xpath3).extract()\n",
        "    e = ''.join(d)\n",
        "    e = e.replace('\\nThis work is in the public domain in the United States because it is a work of the United States federal government (see 17\\xa0U.S.C.\\xa0105).\\n','')\n",
        "    f = e.replace('\\n',' ')\n",
        "    plain_text.append(f)\n",
        "    text_lines.append(e)    "
      ],
      "execution_count": 0,
      "outputs": []
    },
    {
      "cell_type": "code",
      "metadata": {
        "id": "OuWB_lkJaNDU",
        "colab_type": "code",
        "colab": {}
      },
      "source": [
        "def hm_words(x):\n",
        "    words = len(x.split())\n",
        "    return words\n",
        "\n",
        "def hm_ch_words(x):\n",
        "    words_ch = round(np.mean([len(x) for x in x.split()]),2)\n",
        "    return words_ch\n",
        "\n",
        "def n_sentences(x):\n",
        "    sent = len(x.split('.'))\n",
        "    return sent\n",
        "\n",
        "def n_parag(x):\n",
        "    par =  len(x.split('\\n'))\n",
        "    return par\n",
        "\n",
        "def word_in_sent(x):\n",
        "    sent_w = round(np.mean([len(x.split()) for x in x.split('.')]),1)\n",
        "    return sent_wm"
      ],
      "execution_count": 0,
      "outputs": []
    },
    {
      "cell_type": "code",
      "metadata": {
        "id": "VVxHFiOlaS4W",
        "colab_type": "code",
        "colab": {
          "base_uri": "https://localhost:8080/",
          "height": 112
        },
        "outputId": "0e4bc51f-29d0-4edb-dd88-481e72f40e25"
      },
      "source": [
        "speeches = pd.DataFrame(plain_text, columns = ['speeches'])\n",
        "speeches['line_text'] = pd.DataFrame(text_lines)\n",
        "speeches['characters'] = speeches.speeches.apply(len)\n",
        "speeches['words'] = speeches.speeches.apply(hm_words)\n",
        "speeches['ch_in_words'] = speeches.speeches.apply(hm_ch_words)\n",
        "speeches['sentences'] = speeches.speeches.apply(n_sentences)\n",
        "speeches['paragraphs'] = speeches.line_text.apply(n_parag)\n",
        "\n",
        "#speeches['words_in_sent'] = speeches.speeches.apply(word_in_sent)\n",
        "speeches['ch_in_sent'] = round(speeches['characters'] / speeches['sentences'],1)\n",
        "speeches.tail(2)"
      ],
      "execution_count": 12,
      "outputs": [
        {
          "output_type": "execute_result",
          "data": {
            "text/html": [
              "<div>\n",
              "<style scoped>\n",
              "    .dataframe tbody tr th:only-of-type {\n",
              "        vertical-align: middle;\n",
              "    }\n",
              "\n",
              "    .dataframe tbody tr th {\n",
              "        vertical-align: top;\n",
              "    }\n",
              "\n",
              "    .dataframe thead th {\n",
              "        text-align: right;\n",
              "    }\n",
              "</style>\n",
              "<table border=\"1\" class=\"dataframe\">\n",
              "  <thead>\n",
              "    <tr style=\"text-align: right;\">\n",
              "      <th></th>\n",
              "      <th>speeches</th>\n",
              "      <th>line_text</th>\n",
              "      <th>characters</th>\n",
              "      <th>words</th>\n",
              "      <th>ch_in_words</th>\n",
              "      <th>sentences</th>\n",
              "      <th>paragraphs</th>\n",
              "      <th>ch_in_sent</th>\n",
              "    </tr>\n",
              "  </thead>\n",
              "  <tbody>\n",
              "    <tr>\n",
              "      <th>56</th>\n",
              "      <td>Vice President Biden, Mr. Chief Justice, Memb...</td>\n",
              "      <td>\\nVice President Biden, Mr. Chief Justice, Mem...</td>\n",
              "      <td>11954</td>\n",
              "      <td>2114</td>\n",
              "      <td>4.65</td>\n",
              "      <td>86</td>\n",
              "      <td>23</td>\n",
              "      <td>139.0</td>\n",
              "    </tr>\n",
              "    <tr>\n",
              "      <th>57</th>\n",
              "      <td>Chief Justice Roberts, President Carter, Presi...</td>\n",
              "      <td>Chief Justice Roberts, President Carter, Presi...</td>\n",
              "      <td>8413</td>\n",
              "      <td>1456</td>\n",
              "      <td>4.78</td>\n",
              "      <td>96</td>\n",
              "      <td>16</td>\n",
              "      <td>87.6</td>\n",
              "    </tr>\n",
              "  </tbody>\n",
              "</table>\n",
              "</div>"
            ],
            "text/plain": [
              "                                             speeches  ... ch_in_sent\n",
              "56   Vice President Biden, Mr. Chief Justice, Memb...  ...      139.0\n",
              "57  Chief Justice Roberts, President Carter, Presi...  ...       87.6\n",
              "\n",
              "[2 rows x 8 columns]"
            ]
          },
          "metadata": {
            "tags": []
          },
          "execution_count": 12
        }
      ]
    },
    {
      "cell_type": "code",
      "metadata": {
        "id": "zh5nOcSzaUYw",
        "colab_type": "code",
        "colab": {}
      },
      "source": [
        ""
      ],
      "execution_count": 0,
      "outputs": []
    }
  ]
}